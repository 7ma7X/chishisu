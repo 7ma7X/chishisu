{
 "cells": [
  {
   "cell_type": "code",
   "execution_count": 1,
   "metadata": {},
   "outputs": [],
   "source": [
    "# kadai 1"
   ]
  },
  {
   "cell_type": "code",
   "execution_count": 2,
   "metadata": {},
   "outputs": [],
   "source": [
    "import numpy as np\n",
    "import matplotlib.pyplot as plt \n",
    "%matplotlib inline"
   ]
  },
  {
   "cell_type": "code",
   "execution_count": 3,
   "metadata": {},
   "outputs": [],
   "source": [
    "np.random.seed(0)  # set the random seed for reproducibility"
   ]
  },
  {
   "cell_type": "code",
   "execution_count": 4,
   "metadata": {},
   "outputs": [],
   "source": [
    "def generate_sample(xmin, xmax, sample_size):\n",
    "    x = np.linspace(start=xmin, stop=xmax, num=sample_size)\n",
    "    pix = np.pi * x\n",
    "    target = np.sin(pix) / pix + 0.1 * x\n",
    "    noise = 0.05 * np.random.normal(loc=0., scale=1., size=sample_size)\n",
    "    return x, target + noise\n",
    "\n",
    "\n",
    "def calc_design_matrix(x, c, h):\n",
    "    return np.exp(-(x[None] - c[:, None]) ** 2 / (2 * h ** 2))\n",
    "\n",
    "\n",
    "# create sample\n",
    "sample_size = 50\n",
    "xmin, xmax = -3, 3\n",
    "x, y = generate_sample(xmin=xmin, xmax=xmax, sample_size=sample_size)"
   ]
  },
  {
   "cell_type": "code",
   "execution_count": 5,
   "metadata": {},
   "outputs": [
    {
     "name": "stdout",
     "output_type": "stream",
     "text": [
      "(l, h, tmp_error): (1e-05, 0.1, 6.829444037934343)\n",
      "(l, h, tmp_error): (1e-05, 1, 0.28266409973236445)\n",
      "(l, h, tmp_error): (1e-05, 10, 8.785066122498504)\n",
      "(l, h, tmp_error): (1e-05, 100, 8.280715616852483)\n",
      "(l, h, tmp_error): (0.0001, 0.1, 6.829815720744827)\n",
      "(l, h, tmp_error): (0.0001, 1, 0.26871432097664577)\n",
      "(l, h, tmp_error): (0.0001, 10, 7.788724108450335)\n",
      "(l, h, tmp_error): (0.0001, 100, 8.340445659709431)\n",
      "(l, h, tmp_error): (0.001, 0.1, 6.833497638770422)\n",
      "(l, h, tmp_error): (0.001, 1, 0.3235087600060603)\n",
      "(l, h, tmp_error): (0.001, 10, 7.953382951081358)\n",
      "(l, h, tmp_error): (0.001, 100, 8.992764744697546)\n",
      "(l, h, tmp_error): (0.01, 0.1, 6.867302361890678)\n",
      "(l, h, tmp_error): (0.01, 1, 0.7798379762088875)\n",
      "(l, h, tmp_error): (0.01, 10, 8.254180963967915)\n",
      "(l, h, tmp_error): (0.01, 100, 9.26705923410567)\n",
      "(l, h, tmp_error): (0.1, 0.1, 7.079199302024457)\n",
      "(l, h, tmp_error): (0.1, 1, 1.82501562629772)\n",
      "(l, h, tmp_error): (0.1, 10, 8.272530798670369)\n",
      "(l, h, tmp_error): (0.1, 100, 9.301789271722768)\n",
      "(l, h, tmp_error): (1, 0.1, 7.797375786945937)\n",
      "(l, h, tmp_error): (1, 1, 2.6627060516452246)\n",
      "(l, h, tmp_error): (1, 10, 8.348951533867222)\n",
      "(l, h, tmp_error): (1, 100, 9.304610362825315)\n",
      "(l, h, tmp_error): (10, 0.1, 8.881097872923496)\n",
      "(l, h, tmp_error): (10, 1, 5.6359489744617015)\n",
      "(l, h, tmp_error): (10, 10, 8.985810963920418)\n",
      "(l, h, tmp_error): (10, 100, 9.297534063887719)\n",
      "(l, h, tmp_error): (100, 0.1, 9.280302417453655)\n",
      "(l, h, tmp_error): (100, 1, 7.124780561369222)\n",
      "(l, h, tmp_error): (100, 10, 9.165704431513129)\n",
      "(l, h, tmp_error): (100, 100, 9.230076959995277)\n"
     ]
    }
   ],
   "source": [
    "# k-fold cross-validation\n",
    "best_l, best_h = None, None\n",
    "error = 100000000\n",
    "\n",
    "for cur_l in [0.00001, 0.0001, 0.001, 0.01, 0.1, 1, 10, 100]:\n",
    "    for cur_h in [0.1, 1, 10, 100]:\n",
    "        \n",
    "        tmp_error = 0\n",
    "        \n",
    "        # split in 5\n",
    "        for i in range(10):\n",
    "            x_test = x[5*i:5*(i+1)]\n",
    "            y_test = y[5*i:5*(i+1)]\n",
    "            \n",
    "            x_sample = np.concatenate([x[:5*i], x[5*(i+1):]])\n",
    "            y_sample = np.concatenate([y[:5*i], y[5*(i+1):]])\n",
    "            \n",
    "            \n",
    "            k = calc_design_matrix(x_sample, x_sample, cur_h)\n",
    "            theta = np.linalg.solve(\n",
    "                k.T.dot(k) + cur_l * np.identity(len(k)),\n",
    "                k.T.dot(y_sample[:, None]))\n",
    "            \n",
    "            K = calc_design_matrix(x_sample, x_test, cur_h)\n",
    "            prediction = np.ravel(K.dot(theta))\n",
    "            \n",
    "            for j in range(5):\n",
    "                tmp_error += (prediction[j] - y_test[j])**2\n",
    "                \n",
    "        print('(l, h, tmp_error): ({}, {}, {})'.format(cur_l, cur_h, tmp_error))\n",
    "                \n",
    "                \n",
    "        if tmp_error < error:\n",
    "            best_l, best_h = cur_l, cur_h \n",
    "            error = tmp_error"
   ]
  },
  {
   "cell_type": "code",
   "execution_count": 6,
   "metadata": {},
   "outputs": [
    {
     "name": "stdout",
     "output_type": "stream",
     "text": [
      "Best (l, h): (0.0001, 1)\n"
     ]
    }
   ],
   "source": [
    "print('Best (l, h): ({}, {})'.format(best_l, best_h))"
   ]
  },
  {
   "cell_type": "code",
   "execution_count": 7,
   "metadata": {},
   "outputs": [
    {
     "data": {
      "text/plain": [
       "[<matplotlib.lines.Line2D at 0x10b56d518>]"
      ]
     },
     "execution_count": 7,
     "metadata": {},
     "output_type": "execute_result"
    },
    {
     "data": {
      "image/png": "[encoded data removed]",
      "text/plain": [
       "<Figure size 576x432 with 1 Axes>"
      ]
     },
     "metadata": {
      "needs_background": "light"
     },
     "output_type": "display_data"
    }
   ],
   "source": [
    "#\n",
    "# visualization\n",
    "#\n",
    "\n",
    "# calculate design matrix\n",
    "k = calc_design_matrix(x, x, best_h)\n",
    "\n",
    "# solve the least square problem\n",
    "theta = np.linalg.solve(\n",
    "    k.T.dot(k) + best_l * np.identity(len(k)),\n",
    "    k.T.dot(y[:, None]))\n",
    "\n",
    "# create data to visualize the prediction\n",
    "X = np.linspace(start=xmin, stop=xmax, num=5000)\n",
    "K = calc_design_matrix(x, X, best_h)\n",
    "prediction = K.dot(theta)\n",
    "\n",
    "plt.figure(figsize=(8, 6))\n",
    "plt.clf()\n",
    "plt.scatter(x, y, c='red', marker='o')\n",
    "plt.plot(X, prediction)"
   ]
  },
  {
   "cell_type": "code",
   "execution_count": 8,
   "metadata": {},
   "outputs": [],
   "source": [
    "# kadai 2"
   ]
  },
  {
   "cell_type": "code",
   "execution_count": 9,
   "metadata": {},
   "outputs": [
    {
     "data": {
      "text/plain": [
       "<Figure size 432x288 with 0 Axes>"
      ]
     },
     "metadata": {},
     "output_type": "display_data"
    },
    {
     "data": {
      "image/png": "[encoded data removed]",
      "text/plain": [
       "<Figure size 432x432 with 1 Axes>"
      ]
     },
     "metadata": {
      "needs_background": "light"
     },
     "output_type": "display_data"
    }
   ],
   "source": [
    "np.random.seed(1)\n",
    "\n",
    "\n",
    "def generate_data(sample_size):\n",
    "    a = np.linspace(0, 4 * np.pi, num=sample_size // 2)\n",
    "    x = np.concatenate(\n",
    "        [np.stack([a * np.cos(a), a * np.sin(a)], axis=1),\n",
    "         np.stack([(a + np.pi) * np.cos(a), (a + np.pi) * np.sin(a)], axis=1)])\n",
    "    x += np.random.random(size=x.shape)\n",
    "    y = np.concatenate([np.ones(sample_size // 2), -np.ones(sample_size // 2)])\n",
    "    return x, y\n",
    "\n",
    "\n",
    "def build_design_mat(x1, x2, bandwidth):\n",
    "    return np.exp(\n",
    "        -np.sum((x1[:, None] - x2[None]) ** 2, axis=-1) / (2 * bandwidth ** 2))\n",
    "\n",
    "\n",
    "def optimize_param(design_mat, y, regularizer, lr): #lr: learning rate\n",
    "    theta = np.array([0.0 for i in range(200)])\n",
    "\n",
    "    epoch = 0\n",
    "    while epoch < 10000:\n",
    "    \n",
    "        i = 0\n",
    "        for p in np.dot(design_mat, theta) * y:\n",
    "            \n",
    "            if 1 - p <= 0:\n",
    "                theta -= lr * (2 * regularizer * theta)\n",
    "            else:\n",
    "                theta -= lr * ((y * design_mat)[i] + 2 * regularizer * theta)\n",
    "                \n",
    "            i += 1 \n",
    "    \n",
    "        epoch += 1\n",
    "        \n",
    "        \n",
    "                \n",
    "    return theta\n",
    "    \n",
    "\n",
    "def visualize(theta, x, y, grid_size=100, x_min=-16, x_max=16):\n",
    "    grid = np.linspace(x_min, x_max, grid_size)\n",
    "    X, Y = np.meshgrid(grid, grid)\n",
    "    mesh_grid = np.stack([np.ravel(X), np.ravel(Y)], axis=1)\n",
    "    design_mat = build_design_mat(x, mesh_grid, bandwidth=1.)\n",
    "    plt.clf()\n",
    "    plt.figure(figsize=(6, 6))\n",
    "    plt.xlim(x_min, x_max)\n",
    "    plt.ylim(x_min, x_max)\n",
    "    plt.contourf(X, Y, np.reshape(np.sign(design_mat.T.dot(theta)),\n",
    "                                  (grid_size, grid_size)),\n",
    "                 alpha=.4, cmap=plt.cm.coolwarm)\n",
    "    plt.scatter(x[y == 1][:, 0], x[y == 1][:, 1], marker='$O$', c='blue')\n",
    "    plt.scatter(x[y == -1][:, 0], x[y == -1][:, 1], marker='x', c='red')\n",
    "\n",
    "\n",
    "x, y = generate_data(sample_size=200)\n",
    "design_mat = build_design_mat(x, x, bandwidth=1.)\n",
    "theta = optimize_param(design_mat, y, regularizer=1, lr=0.0001)\n",
    "\n",
    "visualize(theta, x, y)"
   ]
  }
 ],
 "metadata": {
  "kernelspec": {
   "display_name": "Python 3",
   "language": "python",
   "name": "python3"
  },
  "language_info": {
   "codemirror_mode": {
    "name": "ipython",
    "version": 3
   },
   "file_extension": ".py",
   "mimetype": "text/x-python",
   "name": "python",
   "nbconvert_exporter": "python",
   "pygments_lexer": "ipython3",
   "version": "3.7.2"
  }
 },
 "nbformat": 4,
 "nbformat_minor": 2
}
